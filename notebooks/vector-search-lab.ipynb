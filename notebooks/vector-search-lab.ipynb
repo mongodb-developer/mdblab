{
 "cells": [
  {
   "cell_type": "markdown",
   "metadata": {},
   "source": [
    "[![Lab Documentation and Solutions](https://img.shields.io/badge/Lab%20Documentation%20and%20Solutions-purple)](https://mongodb-developer.github.io/vector-search-lab/)"
   ]
  },
  {
   "cell_type": "markdown",
   "metadata": {},
   "source": [
    "# Step 1: Setup prerequisites\n",
    "\n",
    "Replace `<MONGODB_URI>` with your **MongoDB connection string**"
   ]
  },
  {
   "cell_type": "code",
   "execution_count": 25,
   "metadata": {},
   "outputs": [],
   "source": [
    "import os\n",
    "from pymongo import MongoClient"
   ]
  },
  {
   "cell_type": "code",
   "execution_count": null,
   "metadata": {},
   "outputs": [],
   "source": [
    "# Retain the quotes (\"\") when pasting the URI\n",
    "MONGODB_URI = \"<MONGODB_URI>\"\n",
    "# Initialize a MongoDB Python client\n",
    "mongodb_client = MongoClient(MONGODB_URI, appname=\"devrel.workshop.vector_search\")\n",
    "# Check the connection to the server\n",
    "mongodb_client.admin.command(\"ping\")"
   ]
  },
  {
   "cell_type": "markdown",
   "metadata": {},
   "source": [
    "### **Do not change the values assigned to the variables below**"
   ]
  },
  {
   "cell_type": "code",
   "execution_count": 27,
   "metadata": {},
   "outputs": [],
   "source": [
    "# Database name\n",
    "DB_NAME = \"mongodb_genai_devday\"\n",
    "# Collection name\n",
    "COLLECTION_NAME = \"books\"\n",
    "# Name of the vector search index\n",
    "ATLAS_VECTOR_SEARCH_INDEX_NAME = \"vector_index\""
   ]
  },
  {
   "cell_type": "markdown",
   "metadata": {},
   "source": [
    "📚 https://pymongo.readthedocs.io/en/stable/tutorial.html#getting-a-database"
   ]
  },
  {
   "cell_type": "code",
   "execution_count": null,
   "metadata": {},
   "outputs": [],
   "source": [
    "# Connect to the `DB_NAME` database.\n",
    "# Use the `mongodb_client` instantiated above.\n",
    "db = <CODE_BLOCK_1>"
   ]
  },
  {
   "cell_type": "markdown",
   "metadata": {},
   "source": [
    "📚 https://pymongo.readthedocs.io/en/stable/tutorial.html#getting-a-collection"
   ]
  },
  {
   "cell_type": "code",
   "execution_count": null,
   "metadata": {},
   "outputs": [],
   "source": [
    "# Connect to the `COLLECTION_NAME` collection.\n",
    "# Use the `mongodb_client`, database and collection variables defined above.\n",
    "collection = <CODE_BLOCK_2>"
   ]
  },
  {
   "cell_type": "code",
   "execution_count": 29,
   "metadata": {},
   "outputs": [],
   "source": [
    "SERVERLESS_URL = os.environ.get(\"SERVERLESS_URL\")"
   ]
  },
  {
   "cell_type": "markdown",
   "metadata": {},
   "source": [
    "# Step 2: Import data into MongoDB"
   ]
  },
  {
   "cell_type": "code",
   "execution_count": 30,
   "metadata": {},
   "outputs": [],
   "source": [
    "import requests"
   ]
  },
  {
   "cell_type": "code",
   "execution_count": null,
   "metadata": {},
   "outputs": [],
   "source": [
    "response = requests.post(\n",
    "    url=SERVERLESS_URL, json={\"task\": \"import_vs_data\", \"data\": MONGODB_URI}\n",
    ")\n",
    "if response.status_code == 200:\n",
    "    print(\n",
    "        f\"{collection.count_documents({})} documents ingested into the books collection.\"\n",
    "    )\n",
    "else:\n",
    "    raise Exception(response.json())"
   ]
  },
  {
   "cell_type": "markdown",
   "metadata": {},
   "source": [
    "# Step 3: Generating embeddings"
   ]
  },
  {
   "cell_type": "code",
   "execution_count": null,
   "metadata": {},
   "outputs": [],
   "source": [
    "# You may see a warning upon running this cell. You can ignore it.\n",
    "from sentence_transformers import SentenceTransformer\n",
    "from PIL import Image"
   ]
  },
  {
   "cell_type": "code",
   "execution_count": 58,
   "metadata": {},
   "outputs": [],
   "source": [
    "# Load a multimodal embedding model using the Sentence Transformers library\n",
    "embedding_model = SentenceTransformer(\"clip-ViT-B-32\")"
   ]
  },
  {
   "cell_type": "markdown",
   "metadata": {},
   "source": [
    "### For images\n",
    "\n",
    "📚 https://huggingface.co/sentence-transformers/clip-ViT-B-32#usage"
   ]
  },
  {
   "cell_type": "code",
   "execution_count": null,
   "metadata": {},
   "outputs": [],
   "source": [
    "image_url = \"https://images.isbndb.com/covers/77/44/9780789467744.jpg\"\n",
    "# Load the image from the URL above\n",
    "image = Image.open(requests.get(image_url, stream=True).raw)\n",
    "# Embed the `image` using the `embedding_model` instantiated above and return the embedding as a list\n",
    "# An array can be converted to a list using the `tolist()` method\n",
    "embedding = <CODE_BLOCK_3>"
   ]
  },
  {
   "cell_type": "code",
   "execution_count": null,
   "metadata": {},
   "outputs": [],
   "source": [
    "print(embedding)"
   ]
  },
  {
   "cell_type": "markdown",
   "metadata": {},
   "source": [
    "### For text"
   ]
  },
  {
   "cell_type": "code",
   "execution_count": 36,
   "metadata": {},
   "outputs": [],
   "source": [
    "text = \"Puppy Preschool: Raising Your Puppy Right---Right from the Start!\"\n",
    "# Use the same `embedding_model` to embed a piece of text\n",
    "embedding = embedding_model.encode(text).tolist()"
   ]
  },
  {
   "cell_type": "code",
   "execution_count": null,
   "metadata": {},
   "outputs": [],
   "source": [
    "print(embedding)"
   ]
  },
  {
   "cell_type": "markdown",
   "metadata": {},
   "source": [
    "# Step 4: Adding embeddings to existing data in Atlas"
   ]
  },
  {
   "cell_type": "code",
   "execution_count": 89,
   "metadata": {},
   "outputs": [],
   "source": [
    "from typing import List, Dict, Optional"
   ]
  },
  {
   "cell_type": "code",
   "execution_count": 38,
   "metadata": {},
   "outputs": [],
   "source": [
    "# Field in the documents to embed-- in this case, the book cover\n",
    "field_to_embed = \"cover\"\n",
    "# Name of the embedding field to add to the documents\n",
    "embedding_field = \"embedding\""
   ]
  },
  {
   "cell_type": "code",
   "execution_count": 59,
   "metadata": {},
   "outputs": [],
   "source": [
    "def get_embedding(content: str, mode: str) -> List[float]:\n",
    "    \"\"\"\n",
    "    Generate embeddings\n",
    "\n",
    "    Args:\n",
    "        content (str): Content to embed\n",
    "        mode (str): Content mode (Can be one of \"image\" or \"text\")\n",
    "\n",
    "    Returns:\n",
    "        List[float]: Embedding of the content as a list.\n",
    "    \"\"\"\n",
    "    # If an image URL is provided, first load the image\n",
    "    if mode == \"image\":\n",
    "        content = Image.open(requests.get(content, stream=True).raw)\n",
    "    return embedding_model.encode(content).tolist()"
   ]
  },
  {
   "cell_type": "markdown",
   "metadata": {},
   "source": [
    "📚 https://www.mongodb.com/docs/manual/tutorial/query-documents/#select-all-documents-in-a-collection"
   ]
  },
  {
   "cell_type": "code",
   "execution_count": null,
   "metadata": {},
   "outputs": [],
   "source": [
    "# Query for all documents in the `collection` collection.\n",
    "results = <CODE_BLOCK_4>"
   ]
  },
  {
   "cell_type": "markdown",
   "metadata": {},
   "source": [
    "📚 **$set:** https://www.mongodb.com/docs/manual/reference/operator/update/set/#syntax\n",
    "\n",
    "📚 **update_one():** https://www.mongodb.com/docs/manual/reference/method/db.collection.updateOne/#definition"
   ]
  },
  {
   "cell_type": "code",
   "execution_count": null,
   "metadata": {},
   "outputs": [],
   "source": [
    "# Update each document in the `collection` collection with embeddings\n",
    "for result in results:\n",
    "    content = result[field_to_embed]\n",
    "    # Use the `get_embedding` function defined above to embed the `content`\n",
    "    # Note that `content` contains the cover image URL for the book \n",
    "    embedding = <CODE_BLOCK_5>\n",
    "\n",
    "    \n",
    "    # Filter for the document where the `_id` field is equal to the `_id` of the current document\n",
    "    filter = {\"_id\": result[\"_id\"]}\n",
    "    # Set the `embedding_field` field to the value `embedding` using the `$set` operator\n",
    "    update = <CODE_BLOCK_6>\n",
    "    # Update the documents in the `collection` collection inplace using the `update_one()` operation\n",
    "    # Get the right document `_id` using the `filter` and apply the `update`\n",
    "    <CODE_BLOCK_7>"
   ]
  },
  {
   "cell_type": "markdown",
   "metadata": {},
   "source": [
    "# Step 5: Create a vector search index"
   ]
  },
  {
   "cell_type": "code",
   "execution_count": 46,
   "metadata": {},
   "outputs": [],
   "source": [
    "# Create vector index definition specifying:\n",
    "# path: Path to the embeddings field\n",
    "# numDimensions: Number of embedding dimensions- depends on the embedding model used\n",
    "# similarity: Similarity metric. One of cosine, euclidean, dotProduct.\n",
    "model = {\n",
    "    \"name\": ATLAS_VECTOR_SEARCH_INDEX_NAME,\n",
    "    \"type\": \"vectorSearch\",\n",
    "    \"definition\": {\n",
    "        \"fields\": [\n",
    "            {\n",
    "                \"type\": \"vector\",\n",
    "                \"path\": \"embedding\",\n",
    "                \"numDimensions\": 512,\n",
    "                \"similarity\": \"cosine\",\n",
    "            }\n",
    "        ]\n",
    "    },\n",
    "}"
   ]
  },
  {
   "cell_type": "markdown",
   "metadata": {},
   "source": [
    "📚 https://pymongo.readthedocs.io/en/stable/api/pymongo/collection.html#pymongo.collection.Collection.create_search_index"
   ]
  },
  {
   "cell_type": "code",
   "execution_count": null,
   "metadata": {},
   "outputs": [],
   "source": [
    "# Create a vector search index with the above definition for the `collection` collection\n",
    "<CODE_BLOCK_8>"
   ]
  },
  {
   "cell_type": "markdown",
   "metadata": {},
   "source": [
    "# Step 6: Perform vector search queries\n",
    "\n",
    "📚 https://www.mongodb.com/docs/atlas/atlas-vector-search/vector-search-stage/#ann-examples (Refer to the \"Filter Example\")"
   ]
  },
  {
   "cell_type": "code",
   "execution_count": null,
   "metadata": {},
   "outputs": [],
   "source": [
    "# Define a function to retrieve relevant documents for a user query using vector search\n",
    "def vector_search(\n",
    "    user_query: str, mode: str, filter: Optional[Dict] = {}\n",
    ") -> None:\n",
    "    \"\"\"\n",
    "    Retrieve relevant documents for a user query using vector search.\n",
    "\n",
    "    Args:\n",
    "    user_query (str): The user's query (can be a piece of text or a link to an image)\n",
    "    mode (str): Query mode (image or text)\n",
    "    filter (Optional[Dict], optional): Optional vector search pre-filter\n",
    "    \"\"\"\n",
    "    # Generate embedding for the `user_query` using the `get_embedding` function defined in Step 4\n",
    "    query_embedding = <CODE_BLOCK_9>\n",
    "\n",
    "    # Define an aggregation pipeline consisting of a $vectorSearch stage, followed by a $project stage\n",
    "    # Set the number of candidates to 50 and only return the top 5 documents from the vector search\n",
    "    # Set the `filter` field in the $vectorSearch stage to the value `filter` passed to the function\n",
    "    # In the $project stage, exclude the `_id` field, include these fields: `title`, `cover`, `year`, `pages`, and the `vectorSearchScore`\n",
    "    # NOTE: Use variables defined previously for the `index`, `queryVector` and `path` fields in the $vectorSearch stage\n",
    "    pipeline = <CODE_BLOCK_10>\n",
    "\n",
    "    # Execute the aggregation `pipeline` and store the results in `results`\n",
    "    results = <CODE_BLOCK_11>\n",
    "\n",
    "    # Print book title, score, and cover image\n",
    "    for book in results:\n",
    "        cover = Image.open(requests.get(book.get(\"cover\"), stream=True).raw).resize((100,150))\n",
    "        print(f\"{book.get('title')}({book.get('year')}, {book.get('pages')} pages): {book.get('score')}\")\n",
    "        display(cover)"
   ]
  },
  {
   "cell_type": "code",
   "execution_count": null,
   "metadata": {},
   "outputs": [],
   "source": [
    "# Test the vector search with a text query\n",
    "vector_search(\"A peaceful and uplifting atmosphere\", \"text\")\n",
    "\n",
    "# Also try these text queries:\n",
    "# - Healthy living and fitness\n",
    "# - A man wearing a golden crown\n",
    "# - Adorable fluffy creatures\n",
    "# - Winning business agreement\n",
    "# - A Winter's Tale on a Spanish Isle"
   ]
  },
  {
   "cell_type": "code",
   "execution_count": null,
   "metadata": {},
   "outputs": [],
   "source": [
    "# Test the vector search with an image query\n",
    "vector_search(\"https://images.isbndb.com/covers/26/12/9780385412612.jpg\", \"image\")\n",
    "\n",
    "# Also try these image queries:\n",
    "# - https://mongodb-developer.github.io/vector-search-lab/img/query-sample/1.png\n",
    "# - https://mongodb-developer.github.io/vector-search-lab/img/query-sample/2.png\n",
    "# - https://mongodb-developer.github.io/vector-search-lab/img/query-sample/3.png\n",
    "# - https://mongodb-developer.github.io/vector-search-lab/img/query-sample/4.png\n",
    "# - https://mongodb-developer.github.io/vector-search-lab/img/query-sample/5.png"
   ]
  },
  {
   "cell_type": "markdown",
   "metadata": {},
   "source": [
    "# Step 7: Adding pre-filters to your vector search"
   ]
  },
  {
   "cell_type": "markdown",
   "metadata": {},
   "source": [
    "### Filter for books that were published after the year `2002`\n",
    "\n",
    "📚 https://www.mongodb.com/docs/atlas/atlas-vector-search/vector-search-type/#about-the-filter-type"
   ]
  },
  {
   "cell_type": "code",
   "execution_count": null,
   "metadata": {},
   "outputs": [],
   "source": [
    "# Modify the vector search index `model` from Step 5 to include the `year` field as a `filter` field\n",
    "model = <CODE_BLOCK_12>"
   ]
  },
  {
   "cell_type": "code",
   "execution_count": null,
   "metadata": {},
   "outputs": [],
   "source": [
    "# Update the vector search index with the modified model\n",
    "collection.update_search_index(\n",
    "    name=ATLAS_VECTOR_SEARCH_INDEX_NAME, definition=model[\"definition\"]\n",
    ")"
   ]
  },
  {
   "cell_type": "markdown",
   "metadata": {},
   "source": [
    "**NOTE:** Check that the index update is complete before proceeding. To do so, ensure that the status of the index shows \"Ready\" in the Atlas UI."
   ]
  },
  {
   "cell_type": "markdown",
   "metadata": {},
   "source": [
    "📚 https://www.mongodb.com/docs/manual/reference/operator/query/gte/#syntax"
   ]
  },
  {
   "cell_type": "code",
   "execution_count": null,
   "metadata": {},
   "outputs": [],
   "source": [
    "# Create a filter definition to filter for books where the `year` field is greater than `2002` using the `$gte` operator\n",
    "filter = <CODE_BLOCK_13>\n",
    "# Pass the `filter` as an argument to the `vector_search` function.\n",
    "# Notice how this filter is incorporated in the `pipeline` in the `vector_search` function.\n",
    "vector_search(\"A peaceful and uplifting atmosphere\", \"text\", filter)"
   ]
  },
  {
   "cell_type": "markdown",
   "metadata": {},
   "source": [
    "### Filter for books that were published after the year `2002` and under `250` pages\n",
    "\n",
    "📚 https://www.mongodb.com/docs/atlas/atlas-vector-search/vector-search-type/#about-the-filter-type"
   ]
  },
  {
   "cell_type": "code",
   "execution_count": null,
   "metadata": {},
   "outputs": [],
   "source": [
    "# Modify the vector search index `model` from Step 5 to include `year` and `pages` as filter fields\n",
    "model = <CODE_BLOCK_14>"
   ]
  },
  {
   "cell_type": "code",
   "execution_count": null,
   "metadata": {},
   "outputs": [],
   "source": [
    "# Update the vector search index with the modified model\n",
    "collection.update_search_index(\n",
    "    name=ATLAS_VECTOR_SEARCH_INDEX_NAME, definition=model[\"definition\"]\n",
    ")"
   ]
  },
  {
   "cell_type": "markdown",
   "metadata": {},
   "source": [
    "**NOTE:** Check that the index update is complete before proceeding. To do so, ensure that the status of the index shows \"Ready\" in the Atlas UI.\n",
    "\n",
    "📚 https://www.mongodb.com/docs/manual/reference/operator/query/lte/#mongodb-query-op.-lte"
   ]
  },
  {
   "cell_type": "code",
   "execution_count": null,
   "metadata": {},
   "outputs": [],
   "source": [
    "# Create a filter definition to filter for books where the `year` field is greater than or equal to `2002` and the `pages` field is less than or equal to 250\n",
    "# Use the `$gte` and `$lte` operators\n",
    "filter = <CODE_BLOCK_15>\n",
    "# Pass the `filter` as an argument to the `vector_search` function.\n",
    "# Notice how this filter is incorporated in the `pipeline` in the `vector_search` function.\n",
    "vector_search(\"A peaceful and uplifting atmosphere\", \"text\", filter)"
   ]
  },
  {
   "cell_type": "markdown",
   "metadata": {},
   "source": [
    "# Step 8: Changing the similarity metric"
   ]
  },
  {
   "cell_type": "markdown",
   "metadata": {},
   "source": [
    "📚 https://www.mongodb.com/docs/atlas/atlas-vector-search/vector-search-type/#syntax"
   ]
  },
  {
   "cell_type": "code",
   "execution_count": null,
   "metadata": {},
   "outputs": [],
   "source": [
    "# Modify the vector search index `model` from Step 5 to change the similarity metric to `dotProduct`\n",
    "model = <CODE_BLOCK_16>"
   ]
  },
  {
   "cell_type": "code",
   "execution_count": null,
   "metadata": {},
   "outputs": [],
   "source": [
    "# Update the vector search index with the modified model\n",
    "collection.update_search_index(\n",
    "    name=ATLAS_VECTOR_SEARCH_INDEX_NAME, definition=model[\"definition\"]\n",
    ")"
   ]
  },
  {
   "cell_type": "markdown",
   "metadata": {},
   "source": [
    "**NOTE:** Check that the index update is complete before proceeding. To do so, ensure that the status of the index shows \"Ready\" in the Atlas UI."
   ]
  },
  {
   "cell_type": "code",
   "execution_count": null,
   "metadata": {},
   "outputs": [],
   "source": [
    "# Perform a vector search\n",
    "# Note any differences in the results due to the different similarity metric\n",
    "vector_search(\"A peaceful and uplifting atmosphere\", \"text\")"
   ]
  },
  {
   "cell_type": "markdown",
   "metadata": {},
   "source": [
    "# 🦹‍♀️ Enable vector quantization\n",
    "\n",
    "📚 https://www.mongodb.com/docs/atlas/atlas-vector-search/vector-search-type/#syntax"
   ]
  },
  {
   "cell_type": "code",
   "execution_count": null,
   "metadata": {},
   "outputs": [],
   "source": [
    "# Modify the vector search index `model` from Step 5 to use `scalar` quantization\n",
    "model = <CODE_BLOCK_17>"
   ]
  },
  {
   "cell_type": "code",
   "execution_count": null,
   "metadata": {},
   "outputs": [],
   "source": [
    "# Update the vector search index with the modified model\n",
    "collection.update_search_index(\n",
    "    name=ATLAS_VECTOR_SEARCH_INDEX_NAME, definition=model[\"definition\"]\n",
    ")"
   ]
  },
  {
   "cell_type": "markdown",
   "metadata": {},
   "source": [
    "# 🦹‍♀️ Hybrid search"
   ]
  },
  {
   "cell_type": "code",
   "execution_count": 123,
   "metadata": {},
   "outputs": [],
   "source": [
    "# Name of the full-text search index\n",
    "ATLAS_FTS_INDEX_NAME = \"fts_index\""
   ]
  },
  {
   "cell_type": "code",
   "execution_count": null,
   "metadata": {},
   "outputs": [],
   "source": [
    "# Create full-text search index definition specifying the field mappings\n",
    "model = {\n",
    "    \"name\": ATLAS_FTS_INDEX_NAME,\n",
    "    \"type\": \"search\",\n",
    "    \"definition\": {\n",
    "        \"mappings\": {\"dynamic\": False, \"fields\": {\"title\": {\"type\": \"string\"}}}\n",
    "    },\n",
    "}"
   ]
  },
  {
   "cell_type": "code",
   "execution_count": null,
   "metadata": {},
   "outputs": [],
   "source": [
    "# Create a full-text search index with the above definition for the `collection` collection\n",
    "collection.create_search_index(model=model)"
   ]
  },
  {
   "cell_type": "code",
   "execution_count": null,
   "metadata": {},
   "outputs": [],
   "source": [
    "# Reset the vector search index to the original vector search index definition\n",
    "model = {\n",
    "    \"name\": ATLAS_VECTOR_SEARCH_INDEX_NAME,\n",
    "    \"type\": \"vectorSearch\",\n",
    "    \"definition\": {\n",
    "        \"fields\": [\n",
    "            {\n",
    "                \"type\": \"vector\",\n",
    "                \"path\": \"embedding\",\n",
    "                \"numDimensions\": 512,\n",
    "                \"similarity\": \"cosine\",\n",
    "            }\n",
    "        ]\n",
    "    },\n",
    "}\n",
    "\n",
    "# Update the vector search index with the modified model\n",
    "collection.update_search_index(\n",
    "    name=ATLAS_VECTOR_SEARCH_INDEX_NAME, definition=model[\"definition\"]\n",
    ")"
   ]
  },
  {
   "cell_type": "markdown",
   "metadata": {},
   "source": [
    "**NOTE:** Refer to our [documentation](https://www.mongodb.com/docs/atlas/atlas-vector-search/tutorials/reciprocal-rank-fusion/#about-the-query) for a detailed explanation of the hybrid search query below."
   ]
  },
  {
   "cell_type": "code",
   "execution_count": null,
   "metadata": {},
   "outputs": [],
   "source": [
    "def hybrid_search(\n",
    "    user_query: str, vector_weight: float, full_text_weight: float\n",
    ") -> None:\n",
    "    \"\"\"\n",
    "    Retrieve relevant documents for a user query using hybrid search.\n",
    "\n",
    "    Args:\n",
    "        user_query (str): User query string\n",
    "        vector_weight (float): Weight of vector search in the final search results\n",
    "        full_text_weight (float): Weight of full-text search in the final search results\n",
    "    \"\"\"\n",
    "    pipeline = [\n",
    "        # Vector search stage\n",
    "        {\n",
    "            \"$vectorSearch\": {\n",
    "                \"index\": ATLAS_VECTOR_SEARCH_INDEX_NAME,\n",
    "                \"path\": \"embedding\",\n",
    "                \"queryVector\": get_embedding(user_query, \"text\"),\n",
    "                \"numCandidates\": 50,\n",
    "                \"limit\": 10,\n",
    "            }\n",
    "        },\n",
    "        # Group all documents returned by the vector search into a single array named `docs`\n",
    "        {\"$group\": {\"_id\": None, \"docs\": {\"$push\": \"$$ROOT\"}}},\n",
    "        # Unwinds the array of documents in the `docs` field and stores the position of the document in the `docs` array, in a field named `rank`\n",
    "        {\"$unwind\": {\"path\": \"$docs\", \"includeArrayIndex\": \"rank\"}},\n",
    "        # Adds a new field named `vs_score` that contains the reciprocal rank score for each document in the `docs` array\n",
    "        {\n",
    "            \"$addFields\": {\n",
    "                \"vs_score\": {\n",
    "                    \"$multiply\": [\n",
    "                        vector_weight,\n",
    "                        {\"$divide\": [1.0, {\"$add\": [\"$rank\", 60]}]},\n",
    "                    ]\n",
    "                }\n",
    "            }\n",
    "        },\n",
    "        # Includes only the fields `_id`, `title`, and `cover` and the `vs_score` in the results\n",
    "        {\n",
    "            \"$project\": {\n",
    "                \"vs_score\": 1,\n",
    "                \"_id\": \"$docs._id\",\n",
    "                \"title\": \"$docs.title\",\n",
    "                \"cover\": \"$docs.cover\",\n",
    "            }\n",
    "        },\n",
    "        # Union with a full-text search stage\n",
    "        {\n",
    "            \"$unionWith\": {\n",
    "                \"coll\": COLLECTION_NAME,\n",
    "                \"pipeline\": [\n",
    "                    # Full-text search\n",
    "                    {\n",
    "                        \"$search\": {\n",
    "                            \"index\": ATLAS_FTS_INDEX_NAME,\n",
    "                            \"text\": {\"query\": user_query, \"path\": \"title\"},\n",
    "                        }\n",
    "                    },\n",
    "                    # Limits the number of documents returned by the full-text search to 10\n",
    "                    {\"$limit\": 10},\n",
    "                    # Group all documents returned by the full-text search into a single array named `docs`\n",
    "                    {\"$group\": {\"_id\": None, \"docs\": {\"$push\": \"$$ROOT\"}}},\n",
    "                    # Unwinds the array of documents in the `docs` field and stores the position of the document in the `docs` array, in a field named `rank`\n",
    "                    {\"$unwind\": {\"path\": \"$docs\", \"includeArrayIndex\": \"rank\"}},\n",
    "                    # Adds a new field named `fts_score` that contains the reciprocal rank score for each document in the `docs` array\n",
    "                    {\n",
    "                        \"$addFields\": {\n",
    "                            \"fts_score\": {\n",
    "                                \"$multiply\": [\n",
    "                                    full_text_weight,\n",
    "                                    {\"$divide\": [1.0, {\"$add\": [\"$rank\", 60]}]},\n",
    "                                ]\n",
    "                            }\n",
    "                        }\n",
    "                    },\n",
    "                    # Includes only the fields `_id`, `title`, and `cover` and the `fts_score` in the results\n",
    "                    {\n",
    "                        \"$project\": {\n",
    "                            \"fts_score\": 1,\n",
    "                            \"_id\": \"$docs._id\",\n",
    "                            \"title\": \"$docs.title\",\n",
    "                            \"cover\": \"$docs.cover\",\n",
    "                        }\n",
    "                    },\n",
    "                ],\n",
    "            }\n",
    "        },\n",
    "        # The following stages combine the results from vector and full-text search into a single ranked list\n",
    "        # Groups the documents in the results from the preceding stages by `title`, `vs_score`, and `fts_score`\n",
    "        {\n",
    "            \"$group\": {\n",
    "                \"_id\": \"$_id\",\n",
    "                \"title\": {\"$first\": \"$title\"},\n",
    "                \"vs_score\": {\"$max\": \"$vs_score\"},\n",
    "                \"fts_score\": {\"$max\": \"$fts_score\"},\n",
    "                \"cover\": {\"$first\": \"$cover\"},\n",
    "            }\n",
    "        },\n",
    "        # Includes only the fields `_id`, `title`, `cover`, `vs_score` and `fts_score` in the results\n",
    "        {\n",
    "            \"$project\": {\n",
    "                \"_id\": 1,\n",
    "                \"title\": 1,\n",
    "                \"vs_score\": {\"$ifNull\": [\"$vs_score\", 0]},\n",
    "                \"fts_score\": {\"$ifNull\": [\"$fts_score\", 0]},\n",
    "                \"cover\": 1,\n",
    "            }\n",
    "        },\n",
    "        # Adds a field named `score` that contains the sum of `vs_score` and `fts_score` to the results\n",
    "        {\n",
    "            \"$project\": {\n",
    "                \"score\": {\"$add\": [\"$fts_score\", \"$vs_score\"]},\n",
    "                \"_id\": 1,\n",
    "                \"title\": 1,\n",
    "                \"vs_score\": 1,\n",
    "                \"fts_score\": 1,\n",
    "                \"cover\": 1,\n",
    "            }\n",
    "        },\n",
    "        # Sorts the results by descending order of `score`\n",
    "        {\"$sort\": {\"score\": -1}},\n",
    "        # Limits the output to 5 results only\n",
    "        {\"$limit\": 5},\n",
    "    ]\n",
    "\n",
    "    results = collection.aggregate(pipeline)\n",
    "\n",
    "    # Print book title, scores, and cover image\n",
    "    for book in results:\n",
    "        cover = Image.open(requests.get(book[\"cover\"], stream=True).raw).resize(\n",
    "            (100, 150)\n",
    "        )\n",
    "        print(\n",
    "            f\"{book.get('title')}, VS Score: {book.get('vs_score')}, FTS Score: {book.get('fts_score')}\"\n",
    "        )\n",
    "        display(cover)"
   ]
  },
  {
   "cell_type": "code",
   "execution_count": null,
   "metadata": {},
   "outputs": [],
   "source": [
    "# Test the hybrid search query with a weight of 1.0 for vector search and 0.0 for full-text search\n",
    "hybrid_search(\n",
    "    user_query=\"A Winter's Tale on a Spanish Isle\",\n",
    "    vector_weight=1.0,\n",
    "    full_text_weight=0.0,\n",
    ")"
   ]
  },
  {
   "cell_type": "code",
   "execution_count": null,
   "metadata": {},
   "outputs": [],
   "source": [
    "# Test the hybrid search query with a weight of 0.5 for vector search and 0.5 for full-text search\n",
    "hybrid_search(\n",
    "    user_query=\"A Winter's Tale on a Spanish Isle\",\n",
    "    vector_weight=0.5,\n",
    "    full_text_weight=0.5,\n",
    ")"
   ]
  }
 ],
 "metadata": {
  "kernelspec": {
   "display_name": "Python 3",
   "language": "python",
   "name": "python3"
  },
  "language_info": {
   "codemirror_mode": {
    "name": "ipython",
    "version": 3
   },
   "file_extension": ".py",
   "mimetype": "text/x-python",
   "name": "python",
   "nbconvert_exporter": "python",
   "pygments_lexer": "ipython3",
   "version": "3.12.1"
  }
 },
 "nbformat": 4,
 "nbformat_minor": 2
}
